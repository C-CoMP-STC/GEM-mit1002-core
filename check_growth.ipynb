{
 "cells": [
  {
   "cell_type": "code",
   "execution_count": null,
   "metadata": {},
   "outputs": [],
   "source": [
    "import cobra\n",
    "import os"
   ]
  },
  {
   "cell_type": "code",
   "execution_count": null,
   "metadata": {},
   "outputs": [
    {
     "data": {
      "text/plain": [
       "'/Users/helenscott/Documents/PhD/Segre-lab/GEM-repos/mit1002-core-model'"
      ]
     },
     "execution_count": 21,
     "metadata": {},
     "output_type": "execute_result"
    }
   ],
   "source": [
    "os.getcwd()"
   ]
  },
  {
   "cell_type": "code",
   "execution_count": 22,
   "metadata": {},
   "outputs": [],
   "source": [
    "model = cobra.io.load_json_model('model.json')"
   ]
  },
  {
   "cell_type": "code",
   "execution_count": 23,
   "metadata": {},
   "outputs": [],
   "source": [
    "# Change the objective to the biomass reaction not the energy production reaction\n",
    "model.objective = 'bio1_biomass'"
   ]
  },
  {
   "cell_type": "code",
   "execution_count": 24,
   "metadata": {},
   "outputs": [],
   "source": [
    "# Limit the uptake of glucose\n",
    "model.reactions.EX_cpd00027_e0.lower_bound = -10\n",
    "# Don't allow the uptake of acetate\n",
    "model.reactions.EX_cpd00029_e0.lower_bound = 0\n",
    "# Don't allow the uptake of glycerol\n",
    "model.reactions.EX_cpd00100_e0.lower_bound = 0\n",
    "# Don't allow uptake of EtOH\n",
    "model.reactions.EX_cpd00363_e0.lower_bound = 0\n",
    "# Don't allow uptake of CO2- why even was it???\n",
    "model.reactions.EX_cpd00011_e0.lower_bound = 0\n",
    "# Limit uptake of oxygen\n",
    "model.reactions.EX_cpd00007_e0.lower_bound = -20"
   ]
  },
  {
   "cell_type": "code",
   "execution_count": 25,
   "metadata": {},
   "outputs": [
    {
     "data": {
      "text/html": [
       "<strong><em>Optimal</em> solution with objective value 1.342</strong><br><div>\n",
       "<style scoped>\n",
       "    .dataframe tbody tr th:only-of-type {\n",
       "        vertical-align: middle;\n",
       "    }\n",
       "\n",
       "    .dataframe tbody tr th {\n",
       "        vertical-align: top;\n",
       "    }\n",
       "\n",
       "    .dataframe thead th {\n",
       "        text-align: right;\n",
       "    }\n",
       "</style>\n",
       "<table border=\"1\" class=\"dataframe\">\n",
       "  <thead>\n",
       "    <tr style=\"text-align: right;\">\n",
       "      <th></th>\n",
       "      <th>fluxes</th>\n",
       "      <th>reduced_costs</th>\n",
       "    </tr>\n",
       "  </thead>\n",
       "  <tbody>\n",
       "    <tr>\n",
       "      <th>ATPM</th>\n",
       "      <td>3.150000</td>\n",
       "      <td>0.000000e+00</td>\n",
       "    </tr>\n",
       "    <tr>\n",
       "      <th>rxn14414_c0</th>\n",
       "      <td>0.000000</td>\n",
       "      <td>3.485931e-17</td>\n",
       "    </tr>\n",
       "    <tr>\n",
       "      <th>rxn14412_c0</th>\n",
       "      <td>0.000000</td>\n",
       "      <td>-1.579841e-16</td>\n",
       "    </tr>\n",
       "    <tr>\n",
       "      <th>rxn14416_c0</th>\n",
       "      <td>0.000000</td>\n",
       "      <td>0.000000e+00</td>\n",
       "    </tr>\n",
       "    <tr>\n",
       "      <th>rxn14418_c0</th>\n",
       "      <td>18.912181</td>\n",
       "      <td>0.000000e+00</td>\n",
       "    </tr>\n",
       "    <tr>\n",
       "      <th>...</th>\n",
       "      <td>...</td>\n",
       "      <td>...</td>\n",
       "    </tr>\n",
       "    <tr>\n",
       "      <th>EX_cpd00027_e0</th>\n",
       "      <td>-10.000000</td>\n",
       "      <td>-2.684426e-01</td>\n",
       "    </tr>\n",
       "    <tr>\n",
       "      <th>EX_cpd00211_e0</th>\n",
       "      <td>0.000000</td>\n",
       "      <td>0.000000e+00</td>\n",
       "    </tr>\n",
       "    <tr>\n",
       "      <th>EX_cpd00363_e0</th>\n",
       "      <td>0.000000</td>\n",
       "      <td>-8.948085e-02</td>\n",
       "    </tr>\n",
       "    <tr>\n",
       "      <th>EX_cpd00001_e0</th>\n",
       "      <td>25.194408</td>\n",
       "      <td>-1.387779e-17</td>\n",
       "    </tr>\n",
       "    <tr>\n",
       "      <th>DM_cpd11416_c0</th>\n",
       "      <td>1.342213</td>\n",
       "      <td>0.000000e+00</td>\n",
       "    </tr>\n",
       "  </tbody>\n",
       "</table>\n",
       "<p>156 rows × 2 columns</p>\n",
       "</div>"
      ],
      "text/plain": [
       "<Solution 1.342 at 0x287509be0>"
      ]
     },
     "execution_count": 25,
     "metadata": {},
     "output_type": "execute_result"
    }
   ],
   "source": [
    "sol = model.optimize()\n",
    "sol"
   ]
  },
  {
   "cell_type": "code",
   "execution_count": 26,
   "metadata": {},
   "outputs": [],
   "source": [
    "df = sol.to_frame()"
   ]
  },
  {
   "cell_type": "code",
   "execution_count": 27,
   "metadata": {},
   "outputs": [],
   "source": [
    "df.to_csv('data.csv')"
   ]
  },
  {
   "cell_type": "code",
   "execution_count": 28,
   "metadata": {},
   "outputs": [
    {
     "ename": "KeyboardInterrupt",
     "evalue": "",
     "output_type": "error",
     "traceback": [
      "\u001b[0;31m---------------------------------------------------------------------------\u001b[0m",
      "\u001b[0;31mKeyboardInterrupt\u001b[0m                         Traceback (most recent call last)",
      "\u001b[1;32m/Users/helenscott/Documents/PhD/Segre-lab/GEM-repos/mit1002-core-model/check_growth.ipynb Cell 9\u001b[0m in \u001b[0;36m<cell line: 3>\u001b[0;34m()\u001b[0m\n\u001b[1;32m      <a href='vscode-notebook-cell:/Users/helenscott/Documents/PhD/Segre-lab/GEM-repos/mit1002-core-model/check_growth.ipynb#X12sZmlsZQ%3D%3D?line=0'>1</a>\u001b[0m \u001b[39m# Reload the model\u001b[39;00m\n\u001b[1;32m      <a href='vscode-notebook-cell:/Users/helenscott/Documents/PhD/Segre-lab/GEM-repos/mit1002-core-model/check_growth.ipynb#X12sZmlsZQ%3D%3D?line=1'>2</a>\u001b[0m \u001b[39m# To remove anything I did to the bounds\u001b[39;00m\n\u001b[0;32m----> <a href='vscode-notebook-cell:/Users/helenscott/Documents/PhD/Segre-lab/GEM-repos/mit1002-core-model/check_growth.ipynb#X12sZmlsZQ%3D%3D?line=2'>3</a>\u001b[0m model \u001b[39m=\u001b[39m cobra\u001b[39m.\u001b[39;49mio\u001b[39m.\u001b[39;49mload_json_model(\u001b[39m'\u001b[39;49m\u001b[39mmodel.json\u001b[39;49m\u001b[39m'\u001b[39;49m)\n",
      "File \u001b[0;32m~/opt/miniconda3/lib/python3.9/site-packages/cobra/io/json.py:149\u001b[0m, in \u001b[0;36mload_json_model\u001b[0;34m(filename)\u001b[0m\n\u001b[1;32m    147\u001b[0m \u001b[39mif\u001b[39;00m \u001b[39misinstance\u001b[39m(filename, (\u001b[39mstr\u001b[39m, Path)):\n\u001b[1;32m    148\u001b[0m     \u001b[39mwith\u001b[39;00m \u001b[39mopen\u001b[39m(filename, \u001b[39m\"\u001b[39m\u001b[39mr\u001b[39m\u001b[39m\"\u001b[39m) \u001b[39mas\u001b[39;00m file_handle:\n\u001b[0;32m--> 149\u001b[0m         \u001b[39mreturn\u001b[39;00m model_from_dict(json\u001b[39m.\u001b[39;49mload(file_handle))\n\u001b[1;32m    150\u001b[0m \u001b[39melse\u001b[39;00m:\n\u001b[1;32m    151\u001b[0m     \u001b[39mreturn\u001b[39;00m model_from_dict(json\u001b[39m.\u001b[39mload(filename))\n",
      "File \u001b[0;32m~/opt/miniconda3/lib/python3.9/site-packages/cobra/io/dict.py:405\u001b[0m, in \u001b[0;36mmodel_from_dict\u001b[0;34m(obj)\u001b[0m\n\u001b[1;32m    400\u001b[0m model\u001b[39m.\u001b[39madd_metabolites(\n\u001b[1;32m    401\u001b[0m     [_metabolite_from_dict(metabolite) \u001b[39mfor\u001b[39;00m metabolite \u001b[39min\u001b[39;00m obj[\u001b[39m\"\u001b[39m\u001b[39mmetabolites\u001b[39m\u001b[39m\"\u001b[39m]]\n\u001b[1;32m    402\u001b[0m )\n\u001b[1;32m    403\u001b[0m model\u001b[39m.\u001b[39mgenes\u001b[39m.\u001b[39mextend([gene_from_dict(gene) \u001b[39mfor\u001b[39;00m gene \u001b[39min\u001b[39;00m obj[\u001b[39m\"\u001b[39m\u001b[39mgenes\u001b[39m\u001b[39m\"\u001b[39m]])\n\u001b[1;32m    404\u001b[0m model\u001b[39m.\u001b[39madd_reactions(\n\u001b[0;32m--> 405\u001b[0m     [_reaction_from_dict(reaction, model) \u001b[39mfor\u001b[39;00m reaction \u001b[39min\u001b[39;00m obj[\u001b[39m\"\u001b[39m\u001b[39mreactions\u001b[39m\u001b[39m\"\u001b[39m]]\n\u001b[1;32m    406\u001b[0m )\n\u001b[1;32m    407\u001b[0m objective_reactions \u001b[39m=\u001b[39m [\n\u001b[1;32m    408\u001b[0m     rxn \u001b[39mfor\u001b[39;00m rxn \u001b[39min\u001b[39;00m obj[\u001b[39m\"\u001b[39m\u001b[39mreactions\u001b[39m\u001b[39m\"\u001b[39m] \u001b[39mif\u001b[39;00m rxn\u001b[39m.\u001b[39mget(\u001b[39m\"\u001b[39m\u001b[39mobjective_coefficient\u001b[39m\u001b[39m\"\u001b[39m, \u001b[39m0\u001b[39m) \u001b[39m!=\u001b[39m \u001b[39m0\u001b[39m\n\u001b[1;32m    409\u001b[0m ]\n\u001b[1;32m    410\u001b[0m coefficients \u001b[39m=\u001b[39m {\n\u001b[1;32m    411\u001b[0m     model\u001b[39m.\u001b[39mreactions\u001b[39m.\u001b[39mget_by_id(rxn[\u001b[39m\"\u001b[39m\u001b[39mid\u001b[39m\u001b[39m\"\u001b[39m]): rxn[\u001b[39m\"\u001b[39m\u001b[39mobjective_coefficient\u001b[39m\u001b[39m\"\u001b[39m]\n\u001b[1;32m    412\u001b[0m     \u001b[39mfor\u001b[39;00m rxn \u001b[39min\u001b[39;00m objective_reactions\n\u001b[1;32m    413\u001b[0m }\n",
      "File \u001b[0;32m~/opt/miniconda3/lib/python3.9/site-packages/cobra/io/dict.py:405\u001b[0m, in \u001b[0;36m<listcomp>\u001b[0;34m(.0)\u001b[0m\n\u001b[1;32m    400\u001b[0m model\u001b[39m.\u001b[39madd_metabolites(\n\u001b[1;32m    401\u001b[0m     [_metabolite_from_dict(metabolite) \u001b[39mfor\u001b[39;00m metabolite \u001b[39min\u001b[39;00m obj[\u001b[39m\"\u001b[39m\u001b[39mmetabolites\u001b[39m\u001b[39m\"\u001b[39m]]\n\u001b[1;32m    402\u001b[0m )\n\u001b[1;32m    403\u001b[0m model\u001b[39m.\u001b[39mgenes\u001b[39m.\u001b[39mextend([gene_from_dict(gene) \u001b[39mfor\u001b[39;00m gene \u001b[39min\u001b[39;00m obj[\u001b[39m\"\u001b[39m\u001b[39mgenes\u001b[39m\u001b[39m\"\u001b[39m]])\n\u001b[1;32m    404\u001b[0m model\u001b[39m.\u001b[39madd_reactions(\n\u001b[0;32m--> 405\u001b[0m     [_reaction_from_dict(reaction, model) \u001b[39mfor\u001b[39;00m reaction \u001b[39min\u001b[39;00m obj[\u001b[39m\"\u001b[39m\u001b[39mreactions\u001b[39m\u001b[39m\"\u001b[39m]]\n\u001b[1;32m    406\u001b[0m )\n\u001b[1;32m    407\u001b[0m objective_reactions \u001b[39m=\u001b[39m [\n\u001b[1;32m    408\u001b[0m     rxn \u001b[39mfor\u001b[39;00m rxn \u001b[39min\u001b[39;00m obj[\u001b[39m\"\u001b[39m\u001b[39mreactions\u001b[39m\u001b[39m\"\u001b[39m] \u001b[39mif\u001b[39;00m rxn\u001b[39m.\u001b[39mget(\u001b[39m\"\u001b[39m\u001b[39mobjective_coefficient\u001b[39m\u001b[39m\"\u001b[39m, \u001b[39m0\u001b[39m) \u001b[39m!=\u001b[39m \u001b[39m0\u001b[39m\n\u001b[1;32m    409\u001b[0m ]\n\u001b[1;32m    410\u001b[0m coefficients \u001b[39m=\u001b[39m {\n\u001b[1;32m    411\u001b[0m     model\u001b[39m.\u001b[39mreactions\u001b[39m.\u001b[39mget_by_id(rxn[\u001b[39m\"\u001b[39m\u001b[39mid\u001b[39m\u001b[39m\"\u001b[39m]): rxn[\u001b[39m\"\u001b[39m\u001b[39mobjective_coefficient\u001b[39m\u001b[39m\"\u001b[39m]\n\u001b[1;32m    412\u001b[0m     \u001b[39mfor\u001b[39;00m rxn \u001b[39min\u001b[39;00m objective_reactions\n\u001b[1;32m    413\u001b[0m }\n",
      "File \u001b[0;32m~/opt/miniconda3/lib/python3.9/site-packages/cobra/io/dict.py:324\u001b[0m, in \u001b[0;36m_reaction_from_dict\u001b[0;34m(reaction, model)\u001b[0m\n\u001b[1;32m    322\u001b[0m             \u001b[39msetattr\u001b[39m(new_reaction, k, \u001b[39mfloat\u001b[39m(v))\n\u001b[1;32m    323\u001b[0m         \u001b[39melse\u001b[39;00m:\n\u001b[0;32m--> 324\u001b[0m             \u001b[39msetattr\u001b[39;49m(new_reaction, k, v)\n\u001b[1;32m    325\u001b[0m \u001b[39mreturn\u001b[39;00m new_reaction\n",
      "File \u001b[0;32m~/opt/miniconda3/lib/python3.9/site-packages/cobra/util/context.py:111\u001b[0m, in \u001b[0;36mresettable.<locals>.wrapper\u001b[0;34m(self, new_value)\u001b[0m\n\u001b[1;32m    108\u001b[0m         \u001b[39mreturn\u001b[39;00m\n\u001b[1;32m    109\u001b[0m     context(partial(func, \u001b[39mself\u001b[39m, old_value))\n\u001b[0;32m--> 111\u001b[0m func(\u001b[39mself\u001b[39;49m, new_value)\n",
      "File \u001b[0;32m~/opt/miniconda3/lib/python3.9/site-packages/cobra/core/reaction.py:684\u001b[0m, in \u001b[0;36mReaction.gene_reaction_rule\u001b[0;34m(self, new_rule)\u001b[0m\n\u001b[1;32m    666\u001b[0m \u001b[39m@gene_reaction_rule\u001b[39m\u001b[39m.\u001b[39msetter\n\u001b[1;32m    667\u001b[0m \u001b[39m@resettable\u001b[39m\n\u001b[1;32m    668\u001b[0m \u001b[39mdef\u001b[39;00m \u001b[39mgene_reaction_rule\u001b[39m(\u001b[39mself\u001b[39m, new_rule: \u001b[39mstr\u001b[39m) \u001b[39m-\u001b[39m\u001b[39m>\u001b[39m \u001b[39mNone\u001b[39;00m:\n\u001b[1;32m    669\u001b[0m     \u001b[39m\"\"\"Set a new GPR for the reaction, using a str expression.\u001b[39;00m\n\u001b[1;32m    670\u001b[0m \n\u001b[1;32m    671\u001b[0m \u001b[39m    Will use the new GPR to update reaction genes.\u001b[39;00m\n\u001b[0;32m   (...)\u001b[0m\n\u001b[1;32m    682\u001b[0m \n\u001b[1;32m    683\u001b[0m \u001b[39m    \"\"\"\u001b[39;00m\n\u001b[0;32m--> 684\u001b[0m     \u001b[39mself\u001b[39m\u001b[39m.\u001b[39m_gpr \u001b[39m=\u001b[39m GPR\u001b[39m.\u001b[39;49mfrom_string(new_rule)\n\u001b[1;32m    685\u001b[0m     \u001b[39mself\u001b[39m\u001b[39m.\u001b[39mupdate_genes_from_gpr()\n",
      "File \u001b[0;32m~/opt/miniconda3/lib/python3.9/site-packages/cobra/core/gene.py:378\u001b[0m, in \u001b[0;36mGPR.from_string\u001b[0;34m(cls, string_gpr)\u001b[0m\n\u001b[1;32m    373\u001b[0m         warn(\n\u001b[1;32m    374\u001b[0m             \u001b[39m\"\u001b[39m\u001b[39mMalformed gene_reaction_rule \u001b[39m\u001b[39m'\u001b[39m\u001b[39m{}\u001b[39;00m\u001b[39m'\u001b[39m\u001b[39m\"\u001b[39m\u001b[39m.\u001b[39mformat(escaped_str),\n\u001b[1;32m    375\u001b[0m             \u001b[39mSyntaxWarning\u001b[39;00m,\n\u001b[1;32m    376\u001b[0m         )\n\u001b[1;32m    377\u001b[0m         \u001b[39mreturn\u001b[39;00m gpr\n\u001b[0;32m--> 378\u001b[0m gpr \u001b[39m=\u001b[39m \u001b[39mcls\u001b[39;49m(tree)\n\u001b[1;32m    379\u001b[0m gpr\u001b[39m.\u001b[39mupdate_genes()\n\u001b[1;32m    380\u001b[0m \u001b[39mreturn\u001b[39;00m gpr\n",
      "File \u001b[0;32m~/opt/miniconda3/lib/python3.9/site-packages/cobra/core/gene.py:306\u001b[0m, in \u001b[0;36mGPR.__init__\u001b[0;34m(self, gpr_from, **kwargs)\u001b[0m\n\u001b[1;32m    304\u001b[0m     cleaner\u001b[39m.\u001b[39mvisit(gpr_from)\n\u001b[1;32m    305\u001b[0m     \u001b[39mself\u001b[39m\u001b[39m.\u001b[39m_genes \u001b[39m=\u001b[39m deepcopy(cleaner\u001b[39m.\u001b[39mgene_set)\n\u001b[0;32m--> 306\u001b[0m     \u001b[39mself\u001b[39m\u001b[39m.\u001b[39mbody \u001b[39m=\u001b[39m deepcopy(gpr_from\u001b[39m.\u001b[39;49mbody)\n\u001b[1;32m    307\u001b[0m     \u001b[39mself\u001b[39m\u001b[39m.\u001b[39meval()\n\u001b[1;32m    308\u001b[0m \u001b[39melse\u001b[39;00m:\n",
      "File \u001b[0;32m~/opt/miniconda3/lib/python3.9/copy.py:172\u001b[0m, in \u001b[0;36mdeepcopy\u001b[0;34m(x, memo, _nil)\u001b[0m\n\u001b[1;32m    170\u001b[0m                 y \u001b[39m=\u001b[39m x\n\u001b[1;32m    171\u001b[0m             \u001b[39melse\u001b[39;00m:\n\u001b[0;32m--> 172\u001b[0m                 y \u001b[39m=\u001b[39m _reconstruct(x, memo, \u001b[39m*\u001b[39;49mrv)\n\u001b[1;32m    174\u001b[0m \u001b[39m# If is its own copy, don't memoize.\u001b[39;00m\n\u001b[1;32m    175\u001b[0m \u001b[39mif\u001b[39;00m y \u001b[39mis\u001b[39;00m \u001b[39mnot\u001b[39;00m x:\n",
      "File \u001b[0;32m~/opt/miniconda3/lib/python3.9/copy.py:270\u001b[0m, in \u001b[0;36m_reconstruct\u001b[0;34m(x, memo, func, args, state, listiter, dictiter, deepcopy)\u001b[0m\n\u001b[1;32m    268\u001b[0m \u001b[39mif\u001b[39;00m state \u001b[39mis\u001b[39;00m \u001b[39mnot\u001b[39;00m \u001b[39mNone\u001b[39;00m:\n\u001b[1;32m    269\u001b[0m     \u001b[39mif\u001b[39;00m deep:\n\u001b[0;32m--> 270\u001b[0m         state \u001b[39m=\u001b[39m deepcopy(state, memo)\n\u001b[1;32m    271\u001b[0m     \u001b[39mif\u001b[39;00m \u001b[39mhasattr\u001b[39m(y, \u001b[39m'\u001b[39m\u001b[39m__setstate__\u001b[39m\u001b[39m'\u001b[39m):\n\u001b[1;32m    272\u001b[0m         y\u001b[39m.\u001b[39m__setstate__(state)\n",
      "File \u001b[0;32m~/opt/miniconda3/lib/python3.9/copy.py:146\u001b[0m, in \u001b[0;36mdeepcopy\u001b[0;34m(x, memo, _nil)\u001b[0m\n\u001b[1;32m    144\u001b[0m copier \u001b[39m=\u001b[39m _deepcopy_dispatch\u001b[39m.\u001b[39mget(\u001b[39mcls\u001b[39m)\n\u001b[1;32m    145\u001b[0m \u001b[39mif\u001b[39;00m copier \u001b[39mis\u001b[39;00m \u001b[39mnot\u001b[39;00m \u001b[39mNone\u001b[39;00m:\n\u001b[0;32m--> 146\u001b[0m     y \u001b[39m=\u001b[39m copier(x, memo)\n\u001b[1;32m    147\u001b[0m \u001b[39melse\u001b[39;00m:\n\u001b[1;32m    148\u001b[0m     \u001b[39mif\u001b[39;00m \u001b[39missubclass\u001b[39m(\u001b[39mcls\u001b[39m, \u001b[39mtype\u001b[39m):\n",
      "File \u001b[0;32m~/opt/miniconda3/lib/python3.9/copy.py:230\u001b[0m, in \u001b[0;36m_deepcopy_dict\u001b[0;34m(x, memo, deepcopy)\u001b[0m\n\u001b[1;32m    228\u001b[0m memo[\u001b[39mid\u001b[39m(x)] \u001b[39m=\u001b[39m y\n\u001b[1;32m    229\u001b[0m \u001b[39mfor\u001b[39;00m key, value \u001b[39min\u001b[39;00m x\u001b[39m.\u001b[39mitems():\n\u001b[0;32m--> 230\u001b[0m     y[deepcopy(key, memo)] \u001b[39m=\u001b[39m deepcopy(value, memo)\n\u001b[1;32m    231\u001b[0m \u001b[39mreturn\u001b[39;00m y\n",
      "File \u001b[0;32m~/opt/miniconda3/lib/python3.9/copy.py:146\u001b[0m, in \u001b[0;36mdeepcopy\u001b[0;34m(x, memo, _nil)\u001b[0m\n\u001b[1;32m    144\u001b[0m copier \u001b[39m=\u001b[39m _deepcopy_dispatch\u001b[39m.\u001b[39mget(\u001b[39mcls\u001b[39m)\n\u001b[1;32m    145\u001b[0m \u001b[39mif\u001b[39;00m copier \u001b[39mis\u001b[39;00m \u001b[39mnot\u001b[39;00m \u001b[39mNone\u001b[39;00m:\n\u001b[0;32m--> 146\u001b[0m     y \u001b[39m=\u001b[39m copier(x, memo)\n\u001b[1;32m    147\u001b[0m \u001b[39melse\u001b[39;00m:\n\u001b[1;32m    148\u001b[0m     \u001b[39mif\u001b[39;00m \u001b[39missubclass\u001b[39m(\u001b[39mcls\u001b[39m, \u001b[39mtype\u001b[39m):\n",
      "File \u001b[0;32m~/opt/miniconda3/lib/python3.9/copy.py:210\u001b[0m, in \u001b[0;36m_deepcopy_tuple\u001b[0;34m(x, memo, deepcopy)\u001b[0m\n\u001b[1;32m    209\u001b[0m \u001b[39mdef\u001b[39;00m \u001b[39m_deepcopy_tuple\u001b[39m(x, memo, deepcopy\u001b[39m=\u001b[39mdeepcopy):\n\u001b[0;32m--> 210\u001b[0m     y \u001b[39m=\u001b[39m [deepcopy(a, memo) \u001b[39mfor\u001b[39;00m a \u001b[39min\u001b[39;00m x]\n\u001b[1;32m    211\u001b[0m     \u001b[39m# We're not going to put the tuple in the memo, but it's still important we\u001b[39;00m\n\u001b[1;32m    212\u001b[0m     \u001b[39m# check for it, in case the tuple contains recursive mutable structures.\u001b[39;00m\n\u001b[1;32m    213\u001b[0m     \u001b[39mtry\u001b[39;00m:\n",
      "File \u001b[0;32m~/opt/miniconda3/lib/python3.9/copy.py:210\u001b[0m, in \u001b[0;36m<listcomp>\u001b[0;34m(.0)\u001b[0m\n\u001b[1;32m    209\u001b[0m \u001b[39mdef\u001b[39;00m \u001b[39m_deepcopy_tuple\u001b[39m(x, memo, deepcopy\u001b[39m=\u001b[39mdeepcopy):\n\u001b[0;32m--> 210\u001b[0m     y \u001b[39m=\u001b[39m [deepcopy(a, memo) \u001b[39mfor\u001b[39;00m a \u001b[39min\u001b[39;00m x]\n\u001b[1;32m    211\u001b[0m     \u001b[39m# We're not going to put the tuple in the memo, but it's still important we\u001b[39;00m\n\u001b[1;32m    212\u001b[0m     \u001b[39m# check for it, in case the tuple contains recursive mutable structures.\u001b[39;00m\n\u001b[1;32m    213\u001b[0m     \u001b[39mtry\u001b[39;00m:\n",
      "File \u001b[0;32m~/opt/miniconda3/lib/python3.9/copy.py:172\u001b[0m, in \u001b[0;36mdeepcopy\u001b[0;34m(x, memo, _nil)\u001b[0m\n\u001b[1;32m    170\u001b[0m                 y \u001b[39m=\u001b[39m x\n\u001b[1;32m    171\u001b[0m             \u001b[39melse\u001b[39;00m:\n\u001b[0;32m--> 172\u001b[0m                 y \u001b[39m=\u001b[39m _reconstruct(x, memo, \u001b[39m*\u001b[39;49mrv)\n\u001b[1;32m    174\u001b[0m \u001b[39m# If is its own copy, don't memoize.\u001b[39;00m\n\u001b[1;32m    175\u001b[0m \u001b[39mif\u001b[39;00m y \u001b[39mis\u001b[39;00m \u001b[39mnot\u001b[39;00m x:\n",
      "File \u001b[0;32m~/opt/miniconda3/lib/python3.9/copy.py:270\u001b[0m, in \u001b[0;36m_reconstruct\u001b[0;34m(x, memo, func, args, state, listiter, dictiter, deepcopy)\u001b[0m\n\u001b[1;32m    268\u001b[0m \u001b[39mif\u001b[39;00m state \u001b[39mis\u001b[39;00m \u001b[39mnot\u001b[39;00m \u001b[39mNone\u001b[39;00m:\n\u001b[1;32m    269\u001b[0m     \u001b[39mif\u001b[39;00m deep:\n\u001b[0;32m--> 270\u001b[0m         state \u001b[39m=\u001b[39m deepcopy(state, memo)\n\u001b[1;32m    271\u001b[0m     \u001b[39mif\u001b[39;00m \u001b[39mhasattr\u001b[39m(y, \u001b[39m'\u001b[39m\u001b[39m__setstate__\u001b[39m\u001b[39m'\u001b[39m):\n\u001b[1;32m    272\u001b[0m         y\u001b[39m.\u001b[39m__setstate__(state)\n",
      "File \u001b[0;32m~/opt/miniconda3/lib/python3.9/copy.py:146\u001b[0m, in \u001b[0;36mdeepcopy\u001b[0;34m(x, memo, _nil)\u001b[0m\n\u001b[1;32m    144\u001b[0m copier \u001b[39m=\u001b[39m _deepcopy_dispatch\u001b[39m.\u001b[39mget(\u001b[39mcls\u001b[39m)\n\u001b[1;32m    145\u001b[0m \u001b[39mif\u001b[39;00m copier \u001b[39mis\u001b[39;00m \u001b[39mnot\u001b[39;00m \u001b[39mNone\u001b[39;00m:\n\u001b[0;32m--> 146\u001b[0m     y \u001b[39m=\u001b[39m copier(x, memo)\n\u001b[1;32m    147\u001b[0m \u001b[39melse\u001b[39;00m:\n\u001b[1;32m    148\u001b[0m     \u001b[39mif\u001b[39;00m \u001b[39missubclass\u001b[39m(\u001b[39mcls\u001b[39m, \u001b[39mtype\u001b[39m):\n",
      "File \u001b[0;32m~/opt/miniconda3/lib/python3.9/copy.py:230\u001b[0m, in \u001b[0;36m_deepcopy_dict\u001b[0;34m(x, memo, deepcopy)\u001b[0m\n\u001b[1;32m    228\u001b[0m memo[\u001b[39mid\u001b[39m(x)] \u001b[39m=\u001b[39m y\n\u001b[1;32m    229\u001b[0m \u001b[39mfor\u001b[39;00m key, value \u001b[39min\u001b[39;00m x\u001b[39m.\u001b[39mitems():\n\u001b[0;32m--> 230\u001b[0m     y[deepcopy(key, memo)] \u001b[39m=\u001b[39m deepcopy(value, memo)\n\u001b[1;32m    231\u001b[0m \u001b[39mreturn\u001b[39;00m y\n",
      "File \u001b[0;32m~/opt/miniconda3/lib/python3.9/copy.py:172\u001b[0m, in \u001b[0;36mdeepcopy\u001b[0;34m(x, memo, _nil)\u001b[0m\n\u001b[1;32m    170\u001b[0m                 y \u001b[39m=\u001b[39m x\n\u001b[1;32m    171\u001b[0m             \u001b[39melse\u001b[39;00m:\n\u001b[0;32m--> 172\u001b[0m                 y \u001b[39m=\u001b[39m _reconstruct(x, memo, \u001b[39m*\u001b[39;49mrv)\n\u001b[1;32m    174\u001b[0m \u001b[39m# If is its own copy, don't memoize.\u001b[39;00m\n\u001b[1;32m    175\u001b[0m \u001b[39mif\u001b[39;00m y \u001b[39mis\u001b[39;00m \u001b[39mnot\u001b[39;00m x:\n",
      "File \u001b[0;32m~/opt/miniconda3/lib/python3.9/copy.py:270\u001b[0m, in \u001b[0;36m_reconstruct\u001b[0;34m(x, memo, func, args, state, listiter, dictiter, deepcopy)\u001b[0m\n\u001b[1;32m    268\u001b[0m \u001b[39mif\u001b[39;00m state \u001b[39mis\u001b[39;00m \u001b[39mnot\u001b[39;00m \u001b[39mNone\u001b[39;00m:\n\u001b[1;32m    269\u001b[0m     \u001b[39mif\u001b[39;00m deep:\n\u001b[0;32m--> 270\u001b[0m         state \u001b[39m=\u001b[39m deepcopy(state, memo)\n\u001b[1;32m    271\u001b[0m     \u001b[39mif\u001b[39;00m \u001b[39mhasattr\u001b[39m(y, \u001b[39m'\u001b[39m\u001b[39m__setstate__\u001b[39m\u001b[39m'\u001b[39m):\n\u001b[1;32m    272\u001b[0m         y\u001b[39m.\u001b[39m__setstate__(state)\n",
      "File \u001b[0;32m~/opt/miniconda3/lib/python3.9/copy.py:146\u001b[0m, in \u001b[0;36mdeepcopy\u001b[0;34m(x, memo, _nil)\u001b[0m\n\u001b[1;32m    144\u001b[0m copier \u001b[39m=\u001b[39m _deepcopy_dispatch\u001b[39m.\u001b[39mget(\u001b[39mcls\u001b[39m)\n\u001b[1;32m    145\u001b[0m \u001b[39mif\u001b[39;00m copier \u001b[39mis\u001b[39;00m \u001b[39mnot\u001b[39;00m \u001b[39mNone\u001b[39;00m:\n\u001b[0;32m--> 146\u001b[0m     y \u001b[39m=\u001b[39m copier(x, memo)\n\u001b[1;32m    147\u001b[0m \u001b[39melse\u001b[39;00m:\n\u001b[1;32m    148\u001b[0m     \u001b[39mif\u001b[39;00m \u001b[39missubclass\u001b[39m(\u001b[39mcls\u001b[39m, \u001b[39mtype\u001b[39m):\n",
      "File \u001b[0;32m~/opt/miniconda3/lib/python3.9/copy.py:230\u001b[0m, in \u001b[0;36m_deepcopy_dict\u001b[0;34m(x, memo, deepcopy)\u001b[0m\n\u001b[1;32m    228\u001b[0m memo[\u001b[39mid\u001b[39m(x)] \u001b[39m=\u001b[39m y\n\u001b[1;32m    229\u001b[0m \u001b[39mfor\u001b[39;00m key, value \u001b[39min\u001b[39;00m x\u001b[39m.\u001b[39mitems():\n\u001b[0;32m--> 230\u001b[0m     y[deepcopy(key, memo)] \u001b[39m=\u001b[39m deepcopy(value, memo)\n\u001b[1;32m    231\u001b[0m \u001b[39mreturn\u001b[39;00m y\n",
      "    \u001b[0;31m[... skipping similar frames: deepcopy at line 146 (12 times), _deepcopy_dict at line 230 (11 times), _reconstruct at line 270 (11 times), deepcopy at line 172 (11 times)]\u001b[0m\n",
      "File \u001b[0;32m~/opt/miniconda3/lib/python3.9/copy.py:205\u001b[0m, in \u001b[0;36m_deepcopy_list\u001b[0;34m(x, memo, deepcopy)\u001b[0m\n\u001b[1;32m    203\u001b[0m append \u001b[39m=\u001b[39m y\u001b[39m.\u001b[39mappend\n\u001b[1;32m    204\u001b[0m \u001b[39mfor\u001b[39;00m a \u001b[39min\u001b[39;00m x:\n\u001b[0;32m--> 205\u001b[0m     append(deepcopy(a, memo))\n\u001b[1;32m    206\u001b[0m \u001b[39mreturn\u001b[39;00m y\n",
      "    \u001b[0;31m[... skipping similar frames: deepcopy at line 146 (7 times), _deepcopy_dict at line 230 (6 times), _reconstruct at line 270 (6 times), deepcopy at line 172 (6 times)]\u001b[0m\n",
      "File \u001b[0;32m~/opt/miniconda3/lib/python3.9/copy.py:205\u001b[0m, in \u001b[0;36m_deepcopy_list\u001b[0;34m(x, memo, deepcopy)\u001b[0m\n\u001b[1;32m    203\u001b[0m append \u001b[39m=\u001b[39m y\u001b[39m.\u001b[39mappend\n\u001b[1;32m    204\u001b[0m \u001b[39mfor\u001b[39;00m a \u001b[39min\u001b[39;00m x:\n\u001b[0;32m--> 205\u001b[0m     append(deepcopy(a, memo))\n\u001b[1;32m    206\u001b[0m \u001b[39mreturn\u001b[39;00m y\n",
      "    \u001b[0;31m[... skipping similar frames: deepcopy at line 146 (19 times), _deepcopy_dict at line 230 (16 times), _reconstruct at line 270 (16 times), deepcopy at line 172 (16 times), _deepcopy_list at line 205 (2 times)]\u001b[0m\n",
      "File \u001b[0;32m~/opt/miniconda3/lib/python3.9/copy.py:205\u001b[0m, in \u001b[0;36m_deepcopy_list\u001b[0;34m(x, memo, deepcopy)\u001b[0m\n\u001b[1;32m    203\u001b[0m append \u001b[39m=\u001b[39m y\u001b[39m.\u001b[39mappend\n\u001b[1;32m    204\u001b[0m \u001b[39mfor\u001b[39;00m a \u001b[39min\u001b[39;00m x:\n\u001b[0;32m--> 205\u001b[0m     append(deepcopy(a, memo))\n\u001b[1;32m    206\u001b[0m \u001b[39mreturn\u001b[39;00m y\n",
      "    \u001b[0;31m[... skipping similar frames: deepcopy at line 172 (1 times)]\u001b[0m\n",
      "File \u001b[0;32m~/opt/miniconda3/lib/python3.9/copy.py:270\u001b[0m, in \u001b[0;36m_reconstruct\u001b[0;34m(x, memo, func, args, state, listiter, dictiter, deepcopy)\u001b[0m\n\u001b[1;32m    268\u001b[0m \u001b[39mif\u001b[39;00m state \u001b[39mis\u001b[39;00m \u001b[39mnot\u001b[39;00m \u001b[39mNone\u001b[39;00m:\n\u001b[1;32m    269\u001b[0m     \u001b[39mif\u001b[39;00m deep:\n\u001b[0;32m--> 270\u001b[0m         state \u001b[39m=\u001b[39m deepcopy(state, memo)\n\u001b[1;32m    271\u001b[0m     \u001b[39mif\u001b[39;00m \u001b[39mhasattr\u001b[39m(y, \u001b[39m'\u001b[39m\u001b[39m__setstate__\u001b[39m\u001b[39m'\u001b[39m):\n\u001b[1;32m    272\u001b[0m         y\u001b[39m.\u001b[39m__setstate__(state)\n",
      "File \u001b[0;32m~/opt/miniconda3/lib/python3.9/copy.py:146\u001b[0m, in \u001b[0;36mdeepcopy\u001b[0;34m(x, memo, _nil)\u001b[0m\n\u001b[1;32m    144\u001b[0m copier \u001b[39m=\u001b[39m _deepcopy_dispatch\u001b[39m.\u001b[39mget(\u001b[39mcls\u001b[39m)\n\u001b[1;32m    145\u001b[0m \u001b[39mif\u001b[39;00m copier \u001b[39mis\u001b[39;00m \u001b[39mnot\u001b[39;00m \u001b[39mNone\u001b[39;00m:\n\u001b[0;32m--> 146\u001b[0m     y \u001b[39m=\u001b[39m copier(x, memo)\n\u001b[1;32m    147\u001b[0m \u001b[39melse\u001b[39;00m:\n\u001b[1;32m    148\u001b[0m     \u001b[39mif\u001b[39;00m \u001b[39missubclass\u001b[39m(\u001b[39mcls\u001b[39m, \u001b[39mtype\u001b[39m):\n",
      "File \u001b[0;32m~/opt/miniconda3/lib/python3.9/copy.py:230\u001b[0m, in \u001b[0;36m_deepcopy_dict\u001b[0;34m(x, memo, deepcopy)\u001b[0m\n\u001b[1;32m    228\u001b[0m memo[\u001b[39mid\u001b[39m(x)] \u001b[39m=\u001b[39m y\n\u001b[1;32m    229\u001b[0m \u001b[39mfor\u001b[39;00m key, value \u001b[39min\u001b[39;00m x\u001b[39m.\u001b[39mitems():\n\u001b[0;32m--> 230\u001b[0m     y[deepcopy(key, memo)] \u001b[39m=\u001b[39m deepcopy(value, memo)\n\u001b[1;32m    231\u001b[0m \u001b[39mreturn\u001b[39;00m y\n",
      "File \u001b[0;32m~/opt/miniconda3/lib/python3.9/copy.py:172\u001b[0m, in \u001b[0;36mdeepcopy\u001b[0;34m(x, memo, _nil)\u001b[0m\n\u001b[1;32m    170\u001b[0m                 y \u001b[39m=\u001b[39m x\n\u001b[1;32m    171\u001b[0m             \u001b[39melse\u001b[39;00m:\n\u001b[0;32m--> 172\u001b[0m                 y \u001b[39m=\u001b[39m _reconstruct(x, memo, \u001b[39m*\u001b[39;49mrv)\n\u001b[1;32m    174\u001b[0m \u001b[39m# If is its own copy, don't memoize.\u001b[39;00m\n\u001b[1;32m    175\u001b[0m \u001b[39mif\u001b[39;00m y \u001b[39mis\u001b[39;00m \u001b[39mnot\u001b[39;00m x:\n",
      "File \u001b[0;32m~/opt/miniconda3/lib/python3.9/copy.py:264\u001b[0m, in \u001b[0;36m_reconstruct\u001b[0;34m(x, memo, func, args, state, listiter, dictiter, deepcopy)\u001b[0m\n\u001b[1;32m    262\u001b[0m \u001b[39mif\u001b[39;00m deep \u001b[39mand\u001b[39;00m args:\n\u001b[1;32m    263\u001b[0m     args \u001b[39m=\u001b[39m (deepcopy(arg, memo) \u001b[39mfor\u001b[39;00m arg \u001b[39min\u001b[39;00m args)\n\u001b[0;32m--> 264\u001b[0m y \u001b[39m=\u001b[39m func(\u001b[39m*\u001b[39;49margs)\n\u001b[1;32m    265\u001b[0m \u001b[39mif\u001b[39;00m deep:\n\u001b[1;32m    266\u001b[0m     memo[\u001b[39mid\u001b[39m(x)] \u001b[39m=\u001b[39m y\n",
      "File \u001b[0;32m~/opt/miniconda3/lib/python3.9/copy.py:263\u001b[0m, in \u001b[0;36m<genexpr>\u001b[0;34m(.0)\u001b[0m\n\u001b[1;32m    261\u001b[0m deep \u001b[39m=\u001b[39m memo \u001b[39mis\u001b[39;00m \u001b[39mnot\u001b[39;00m \u001b[39mNone\u001b[39;00m\n\u001b[1;32m    262\u001b[0m \u001b[39mif\u001b[39;00m deep \u001b[39mand\u001b[39;00m args:\n\u001b[0;32m--> 263\u001b[0m     args \u001b[39m=\u001b[39m (deepcopy(arg, memo) \u001b[39mfor\u001b[39;00m arg \u001b[39min\u001b[39;00m args)\n\u001b[1;32m    264\u001b[0m y \u001b[39m=\u001b[39m func(\u001b[39m*\u001b[39margs)\n\u001b[1;32m    265\u001b[0m \u001b[39mif\u001b[39;00m deep:\n",
      "File \u001b[0;32m~/opt/miniconda3/lib/python3.9/copy.py:137\u001b[0m, in \u001b[0;36mdeepcopy\u001b[0;34m(x, memo, _nil)\u001b[0m\n\u001b[1;32m    134\u001b[0m \u001b[39mif\u001b[39;00m memo \u001b[39mis\u001b[39;00m \u001b[39mNone\u001b[39;00m:\n\u001b[1;32m    135\u001b[0m     memo \u001b[39m=\u001b[39m {}\n\u001b[0;32m--> 137\u001b[0m d \u001b[39m=\u001b[39m \u001b[39mid\u001b[39;49m(x)\n\u001b[1;32m    138\u001b[0m y \u001b[39m=\u001b[39m memo\u001b[39m.\u001b[39mget(d, _nil)\n\u001b[1;32m    139\u001b[0m \u001b[39mif\u001b[39;00m y \u001b[39mis\u001b[39;00m \u001b[39mnot\u001b[39;00m _nil:\n",
      "\u001b[0;31mKeyboardInterrupt\u001b[0m: "
     ]
    }
   ],
   "source": [
    "# Reload the model\n",
    "# To remove anything I did to the bounds\n",
    "model = cobra.io.load_json_model('model.json')"
   ]
  },
  {
   "cell_type": "code",
   "execution_count": 16,
   "metadata": {},
   "outputs": [
    {
     "name": "stdout",
     "output_type": "stream",
     "text": [
      "{'EX_cpd00067_e0': 'H+_e0'}\n",
      "{'EX_cpd00029_e0': 'Acetate_e0'}\n",
      "{'EX_cpd00058_e0': 'Cu2+_e0'}\n",
      "{'EX_cpd01947_e0': 'BDOH_e0'}\n",
      "{'EX_cpd00100_e0': 'Glycerol_e0'}\n",
      "{'EX_cpd00141_e0': 'Propionate_e0'}\n",
      "{'EX_cpd00011_e0': 'CO2_e0'}\n",
      "{'EX_cpd00971_e0': 'Na+_e0'}\n",
      "{'EX_cpd00159_e0': 'L-Lactate_e0'}\n",
      "{'EX_cpd00075_e0': 'Nitrite_e0'}\n",
      "{'EX_cpd00209_e0': 'Nitrate_e0'}\n",
      "{'EX_cpd00009_e0': 'Phosphate_e0'}\n",
      "{'EX_cpd00007_e0': 'O2_e0'}\n",
      "{'EX_cpd00027_e0': 'D-Glucose_e0'}\n",
      "{'EX_cpd00211_e0': 'Butyrate_e0'}\n",
      "{'EX_cpd00363_e0': 'Ethanol_e0'}\n",
      "{'EX_cpd00001_e0': 'H2O_e0'}\n"
     ]
    }
   ],
   "source": [
    "# Check all what is in the defulat medium (totally unconstrained)\n",
    "for rxn in model.medium.keys():\n",
    "    # Remove the 'EX_'\n",
    "    met_id = rxn[3:]\n",
    "\n",
    "    # Get the name from the model\n",
    "    name = model.metabolites.get_by_id(met_id).name\n",
    "\n",
    "    print({rxn: name})"
   ]
  },
  {
   "cell_type": "code",
   "execution_count": 37,
   "metadata": {},
   "outputs": [],
   "source": [
    "# Define a new MBM + Glucose\n",
    "mbm_glucose = {\n",
    "    'EX_cpd00067_e0': 1000, # H+_e0\n",
    "    # 'EX_cpd00029_e0': 'Acetate_e0'\n",
    "    # 'EX_cpd00058_e0': 'Cu2+_e0'\n",
    "    # 'EX_cpd01947_e0': 'BDOH_e0'\n",
    "    # 'EX_cpd00100_e0': 'Glycerol_e0'\n",
    "    # 'EX_cpd00141_e0': 'Propionate_e0'\n",
    "    # 'EX_cpd00011_e0': 'CO2_e0'\n",
    "    'EX_cpd00971_e0': 1000, # 'Na+_e0',\n",
    "    # 'EX_cpd00159_e0': 'L-Lactate_e0'\n",
    "    # 'EX_cpd00075_e0': 'Nitrite_e0'\n",
    "    # 'EX_cpd00209_e0': 'Nitrate_e0'\n",
    "    'EX_cpd00009_e0': 1000, # 'Phosphate_e0'\n",
    "    'EX_cpd00007_e0': 20, # O2_e0\n",
    "    'EX_cpd00027_e0': 10, # D-Glucose_e0\n",
    "    # 'EX_cpd00211_e0': 'Butyrate_e0'\n",
    "    # 'EX_cpd00363_e0': 'Ethanol_e0'\n",
    "    'EX_cpd00001_e0': 1000 # H2O_e0\n",
    "}"
   ]
  },
  {
   "cell_type": "code",
   "execution_count": 38,
   "metadata": {},
   "outputs": [
    {
     "data": {
      "text/plain": [
       "{'EX_cpd00067_e0': 1000,\n",
       " 'EX_cpd00971_e0': 1000,\n",
       " 'EX_cpd00009_e0': 1000,\n",
       " 'EX_cpd00007_e0': 20,\n",
       " 'EX_cpd00027_e0': 10,\n",
       " 'EX_cpd00001_e0': 1000}"
      ]
     },
     "execution_count": 38,
     "metadata": {},
     "output_type": "execute_result"
    }
   ],
   "source": [
    "# Set the model medium as MBM and check that it set correctly\n",
    "model.medium = mbm_glucose\n",
    "model.medium"
   ]
  },
  {
   "cell_type": "code",
   "execution_count": 39,
   "metadata": {},
   "outputs": [
    {
     "data": {
      "text/html": [
       "<strong><em>Optimal</em> solution with objective value 1.342</strong><br><div>\n",
       "<style scoped>\n",
       "    .dataframe tbody tr th:only-of-type {\n",
       "        vertical-align: middle;\n",
       "    }\n",
       "\n",
       "    .dataframe tbody tr th {\n",
       "        vertical-align: top;\n",
       "    }\n",
       "\n",
       "    .dataframe thead th {\n",
       "        text-align: right;\n",
       "    }\n",
       "</style>\n",
       "<table border=\"1\" class=\"dataframe\">\n",
       "  <thead>\n",
       "    <tr style=\"text-align: right;\">\n",
       "      <th></th>\n",
       "      <th>fluxes</th>\n",
       "      <th>reduced_costs</th>\n",
       "    </tr>\n",
       "  </thead>\n",
       "  <tbody>\n",
       "    <tr>\n",
       "      <th>ATPM</th>\n",
       "      <td>3.150000</td>\n",
       "      <td>0.000000e+00</td>\n",
       "    </tr>\n",
       "    <tr>\n",
       "      <th>rxn14414_c0</th>\n",
       "      <td>0.000000</td>\n",
       "      <td>3.485931e-17</td>\n",
       "    </tr>\n",
       "    <tr>\n",
       "      <th>rxn14412_c0</th>\n",
       "      <td>0.000000</td>\n",
       "      <td>-1.579841e-16</td>\n",
       "    </tr>\n",
       "    <tr>\n",
       "      <th>rxn14416_c0</th>\n",
       "      <td>0.000000</td>\n",
       "      <td>0.000000e+00</td>\n",
       "    </tr>\n",
       "    <tr>\n",
       "      <th>rxn14418_c0</th>\n",
       "      <td>18.912181</td>\n",
       "      <td>0.000000e+00</td>\n",
       "    </tr>\n",
       "    <tr>\n",
       "      <th>...</th>\n",
       "      <td>...</td>\n",
       "      <td>...</td>\n",
       "    </tr>\n",
       "    <tr>\n",
       "      <th>EX_cpd00027_e0</th>\n",
       "      <td>-10.000000</td>\n",
       "      <td>-2.684426e-01</td>\n",
       "    </tr>\n",
       "    <tr>\n",
       "      <th>EX_cpd00211_e0</th>\n",
       "      <td>0.000000</td>\n",
       "      <td>0.000000e+00</td>\n",
       "    </tr>\n",
       "    <tr>\n",
       "      <th>EX_cpd00363_e0</th>\n",
       "      <td>0.000000</td>\n",
       "      <td>-8.948085e-02</td>\n",
       "    </tr>\n",
       "    <tr>\n",
       "      <th>EX_cpd00001_e0</th>\n",
       "      <td>25.194408</td>\n",
       "      <td>-1.387779e-17</td>\n",
       "    </tr>\n",
       "    <tr>\n",
       "      <th>DM_cpd11416_c0</th>\n",
       "      <td>1.342213</td>\n",
       "      <td>0.000000e+00</td>\n",
       "    </tr>\n",
       "  </tbody>\n",
       "</table>\n",
       "<p>156 rows × 2 columns</p>\n",
       "</div>"
      ],
      "text/plain": [
       "<Solution 1.342 at 0x288e50250>"
      ]
     },
     "execution_count": 39,
     "metadata": {},
     "output_type": "execute_result"
    }
   ],
   "source": [
    "# Run\n",
    "sol = model.optimize()\n",
    "sol"
   ]
  },
  {
   "cell_type": "code",
   "execution_count": 36,
   "metadata": {},
   "outputs": [
    {
     "name": "stdout",
     "output_type": "stream",
     "text": [
      "Nitrate import: 0.0\n",
      "Nitrite import: 0.0\n"
     ]
    }
   ],
   "source": [
    "# Check that things not in the medium are not being imported, i.e. nitrate)\n",
    "print('Nitrate import: ' + str(sol.fluxes.EX_cpd00209_e0))\n",
    "print('Nitrite import: ' + str(sol.fluxes.EX_cpd00209_e0))"
   ]
  },
  {
   "cell_type": "code",
   "execution_count": 40,
   "metadata": {},
   "outputs": [
    {
     "data": {
      "text/plain": [
       "{'EX_cpd00067_e0': 1000,\n",
       " 'EX_cpd00029_e0': 20,\n",
       " 'EX_cpd00971_e0': 1000,\n",
       " 'EX_cpd00009_e0': 1000,\n",
       " 'EX_cpd00007_e0': 20,\n",
       " 'EX_cpd00001_e0': 1000}"
      ]
     },
     "execution_count": 40,
     "metadata": {},
     "output_type": "execute_result"
    }
   ],
   "source": [
    "# Define MBM medium with acetate as the only carbon source\n",
    "mbm_acetate = {\n",
    "    'EX_cpd00067_e0': 1000, # H+_e0\n",
    "    'EX_cpd00029_e0': 20, # Acetate_e0\n",
    "    'EX_cpd00971_e0': 1000, # 'Na+_e0',\n",
    "    'EX_cpd00009_e0': 1000, # 'Phosphate_e0'\n",
    "    'EX_cpd00007_e0': 20, # O2_e0\n",
    "    'EX_cpd00001_e0': 1000 # H2O_e0\n",
    "}\n",
    "\n",
    "# Set the model's medium to be MBM + acetate\n",
    "model.medium = mbm_acetate\n",
    "\n",
    "# Check that the medium was correctly set\n",
    "model.medium"
   ]
  },
  {
   "cell_type": "code",
   "execution_count": 41,
   "metadata": {},
   "outputs": [
    {
     "data": {
      "text/html": [
       "<strong><em>Optimal</em> solution with objective value 0.895</strong><br><div>\n",
       "<style scoped>\n",
       "    .dataframe tbody tr th:only-of-type {\n",
       "        vertical-align: middle;\n",
       "    }\n",
       "\n",
       "    .dataframe tbody tr th {\n",
       "        vertical-align: top;\n",
       "    }\n",
       "\n",
       "    .dataframe thead th {\n",
       "        text-align: right;\n",
       "    }\n",
       "</style>\n",
       "<table border=\"1\" class=\"dataframe\">\n",
       "  <thead>\n",
       "    <tr style=\"text-align: right;\">\n",
       "      <th></th>\n",
       "      <th>fluxes</th>\n",
       "      <th>reduced_costs</th>\n",
       "    </tr>\n",
       "  </thead>\n",
       "  <tbody>\n",
       "    <tr>\n",
       "      <th>ATPM</th>\n",
       "      <td>3.150000e+00</td>\n",
       "      <td>0.000000e+00</td>\n",
       "    </tr>\n",
       "    <tr>\n",
       "      <th>rxn14414_c0</th>\n",
       "      <td>-8.515001e-16</td>\n",
       "      <td>2.604569e-17</td>\n",
       "    </tr>\n",
       "    <tr>\n",
       "      <th>rxn14412_c0</th>\n",
       "      <td>5.522065e+00</td>\n",
       "      <td>1.040217e-16</td>\n",
       "    </tr>\n",
       "    <tr>\n",
       "      <th>rxn14416_c0</th>\n",
       "      <td>1.104413e+01</td>\n",
       "      <td>0.000000e+00</td>\n",
       "    </tr>\n",
       "    <tr>\n",
       "      <th>rxn14418_c0</th>\n",
       "      <td>7.086056e+00</td>\n",
       "      <td>0.000000e+00</td>\n",
       "    </tr>\n",
       "    <tr>\n",
       "      <th>...</th>\n",
       "      <td>...</td>\n",
       "      <td>...</td>\n",
       "    </tr>\n",
       "    <tr>\n",
       "      <th>EX_cpd00027_e0</th>\n",
       "      <td>0.000000e+00</td>\n",
       "      <td>-2.684426e-01</td>\n",
       "    </tr>\n",
       "    <tr>\n",
       "      <th>EX_cpd00211_e0</th>\n",
       "      <td>0.000000e+00</td>\n",
       "      <td>0.000000e+00</td>\n",
       "    </tr>\n",
       "    <tr>\n",
       "      <th>EX_cpd00363_e0</th>\n",
       "      <td>0.000000e+00</td>\n",
       "      <td>-8.948085e-02</td>\n",
       "    </tr>\n",
       "    <tr>\n",
       "      <th>EX_cpd00001_e0</th>\n",
       "      <td>2.231834e+01</td>\n",
       "      <td>0.000000e+00</td>\n",
       "    </tr>\n",
       "    <tr>\n",
       "      <th>DM_cpd11416_c0</th>\n",
       "      <td>8.948085e-01</td>\n",
       "      <td>-2.220446e-16</td>\n",
       "    </tr>\n",
       "  </tbody>\n",
       "</table>\n",
       "<p>156 rows × 2 columns</p>\n",
       "</div>"
      ],
      "text/plain": [
       "<Solution 0.895 at 0x288e8fa00>"
      ]
     },
     "execution_count": 41,
     "metadata": {},
     "output_type": "execute_result"
    }
   ],
   "source": [
    "# Run\n",
    "sol = model.optimize()\n",
    "sol"
   ]
  }
 ],
 "metadata": {
  "kernelspec": {
   "display_name": "base",
   "language": "python",
   "name": "python3"
  },
  "language_info": {
   "codemirror_mode": {
    "name": "ipython",
    "version": 3
   },
   "file_extension": ".py",
   "mimetype": "text/x-python",
   "name": "python",
   "nbconvert_exporter": "python",
   "pygments_lexer": "ipython3",
   "version": "3.9.13"
  },
  "orig_nbformat": 4
 },
 "nbformat": 4,
 "nbformat_minor": 2
}
