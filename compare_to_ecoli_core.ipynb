{
 "cells": [
  {
   "cell_type": "code",
   "execution_count": null,
   "metadata": {},
   "outputs": [
    {
     "ename": "",
     "evalue": "",
     "output_type": "error",
     "traceback": [
      "\u001b[1;31mFailed to start the Kernel. \n",
      "\u001b[1;31mTraceback (most recent call last):\n",
      "\u001b[1;31m  File \"/Users/helenscott/.vscode/extensions/ms-toolsai.jupyter-2022.11.1003412109/pythonFiles/vscode_datascience_helpers/jupyter_daemon.py\", line 158, in _start_notebook\n",
      "\u001b[1;31m    from notebook import notebookapp as app\n",
      "\u001b[1;31m  File \"/Users/helenscott/opt/miniconda3/lib/python3.9/site-packages/notebook/notebookapp.py\", line 43, in <module>\n",
      "\u001b[1;31m    from jinja2 import Environment, FileSystemLoader\n",
      "\u001b[1;31m  File \"/Users/helenscott/opt/miniconda3/lib/python3.9/site-packages/jinja2/__init__.py\", line 12, in <module>\n",
      "\u001b[1;31m    from .environment import Environment\n",
      "\u001b[1;31m  File \"/Users/helenscott/opt/miniconda3/lib/python3.9/site-packages/jinja2/environment.py\", line 25, in <module>\n",
      "\u001b[1;31m    from .defaults import BLOCK_END_STRING\n",
      "\u001b[1;31m  File \"/Users/helenscott/opt/miniconda3/lib/python3.9/site-packages/jinja2/defaults.py\", line 3, in <module>\n",
      "\u001b[1;31m    from .filters import FILTERS as DEFAULT_FILTERS  # noqa: F401\n",
      "\u001b[1;31m  File \"/Users/helenscott/opt/miniconda3/lib/python3.9/site-packages/jinja2/filters.py\", line 13, in <module>\n",
      "\u001b[1;31m    from markupsafe import soft_unicode\n",
      "\u001b[1;31mImportError: cannot import name 'soft_unicode' from 'markupsafe' (/Users/helenscott/opt/miniconda3/lib/python3.9/site-packages/markupsafe/__init__.py)\n",
      "\u001b[1;31m\n",
      "\u001b[1;31mDuring handling of the above exception, another exception occurred:\n",
      "\u001b[1;31m\n",
      "\u001b[1;31mTraceback (most recent call last):\n",
      "\u001b[1;31m  File \"/Users/helenscott/.vscode/extensions/ms-toolsai.jupyter-2022.11.1003412109/pythonFiles/vscode_datascience_helpers/daemon/daemon_python.py\", line 54, in _decorator\n",
      "\u001b[1;31m    return func(self, *args, **kwargs)\n",
      "\u001b[1;31m  File \"/Users/helenscott/.vscode/extensions/ms-toolsai.jupyter-2022.11.1003412109/pythonFiles/vscode_datascience_helpers/jupyter_daemon.py\", line 111, in m_exec_module_observable\n",
      "\u001b[1;31m    self._start_notebook(args, cwd, env)\n",
      "\u001b[1;31m  File \"/Users/helenscott/.vscode/extensions/ms-toolsai.jupyter-2022.11.1003412109/pythonFiles/vscode_datascience_helpers/jupyter_daemon.py\", line 160, in _start_notebook\n",
      "\u001b[1;31m    from notebook import app as app\n",
      "\u001b[1;31mImportError: cannot import name 'app' from 'notebook' (/Users/helenscott/opt/miniconda3/lib/python3.9/site-packages/notebook/__init__.py)\n",
      "\u001b[1;31m\n",
      "\u001b[1;31mFailed to run jupyter as observable with args notebook --no-browser --notebook-dir=\"/Users/helenscott/Documents/PhD/Segre-lab/GEM-repos/mit1002-core-model\" --config=/var/folders/sg/v4dtbt1502lfm_z5_nvpyv0h0000gn/T/fcf055a5-a510-4ce8-8a2f-85a8f33a9d96/jupyter_notebook_config.py --NotebookApp.iopub_data_rate_limit=10000000000.0. \n",
      "\u001b[1;31mView Jupyter <a href='command:jupyter.viewOutput'>log</a> for further details."
     ]
    }
   ],
   "source": [
    "import cobra"
   ]
  },
  {
   "cell_type": "code",
   "execution_count": null,
   "metadata": {},
   "outputs": [],
   "source": [
    "# Load thr E coli core model from COBRApy\n",
    "ecoli = cobra.io.load_model('textbook')"
   ]
  }
 ],
 "metadata": {
  "kernelspec": {
   "display_name": "base",
   "language": "python",
   "name": "python3"
  },
  "language_info": {
   "name": "python",
   "version": "3.9.13 (main, Oct 13 2022, 16:12:19) \n[Clang 12.0.0 ]"
  },
  "orig_nbformat": 4,
  "vscode": {
   "interpreter": {
    "hash": "5ee899d5a686fcbb406810e4b8d4baf6ae3726e8507dfd4a7eda607d4a51ae84"
   }
  }
 },
 "nbformat": 4,
 "nbformat_minor": 2
}
